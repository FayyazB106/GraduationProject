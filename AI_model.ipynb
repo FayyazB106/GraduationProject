{
  "nbformat": 4,
  "nbformat_minor": 0,
  "metadata": {
    "colab": {
      "provenance": [],
      "collapsed_sections": [
        "HSc0XahJs67S"
      ]
    },
    "kernelspec": {
      "name": "python3",
      "display_name": "Python 3"
    },
    "language_info": {
      "name": "python"
    },
    "gpuClass": "standard",
    "accelerator": "GPU"
  },
  "cells": [
    {
      "cell_type": "markdown",
      "source": [
        "### Change TensorFlow version"
      ],
      "metadata": {
        "id": "HSc0XahJs67S"
      }
    },
    {
      "cell_type": "code",
      "source": [
        "#!pip install tensorflow==2.9.1\n",
        "import tensorflow as tf\n",
        "print(tf.__version__)"
      ],
      "metadata": {
        "colab": {
          "base_uri": "https://localhost:8080/"
        },
        "id": "CPjujmMBI6cX",
        "outputId": "bfc13645-16a0-4c85-b03f-63f064aa2154"
      },
      "execution_count": null,
      "outputs": [
        {
          "output_type": "stream",
          "name": "stdout",
          "text": [
            "2.9.1\n"
          ]
        }
      ]
    },
    {
      "cell_type": "markdown",
      "source": [
        "### Upload zip file containing data and arrange them into directories needed by the model. Import OS and ZipFile to assist with that."
      ],
      "metadata": {
        "id": "RUNOxLK9qVIz"
      }
    },
    {
      "cell_type": "code",
      "execution_count": null,
      "metadata": {
        "id": "Zff4amg1Lnds"
      },
      "outputs": [],
      "source": [
        "import os\n",
        "import zipfile\n",
        "local_zip = '/content/archive.zip'\n",
        "zip_ref = zipfile.ZipFile(local_zip, 'r')\n",
        "zip_ref.extractall('/content/lungs')\n",
        "zip_ref.close()"
      ]
    },
    {
      "cell_type": "code",
      "source": [
        "base_dir = '/content/lungs/Data'\n",
        "train_dir = os.path.join(base_dir, 'train')\n",
        "valid_dir = os.path.join(base_dir, 'valid')\n",
        "test_dir = os.path.join(base_dir, 'test')\n",
        "\n",
        "train_dir_norm = os.path.join(train_dir, 'normal')\n",
        "train_dir_AC = os.path.join(train_dir, 'adenocarcinoma_left.lower.lobe_T2_N0_M0_Ib')\n",
        "train_dir_LCC = os.path.join(train_dir, 'large.cell.carcinoma_left.hilum_T2_N2_M0_IIIa')\n",
        "train_dir_SCC = os.path.join(train_dir, 'squamous.cell.carcinoma_left.hilum_T1_N2_M0_IIIa')\n",
        "\n",
        "valid_dir_norm = os.path.join(valid_dir, 'normal')\n",
        "valid_dir_AC = os.path.join(valid_dir, 'adenocarcinoma_left.lower.lobe_T2_N0_M0_Ib')\n",
        "valid_dir_LCC = os.path.join(valid_dir, 'large.cell.carcinoma_left.hilum_T2_N2_M0_IIIa')\n",
        "valid_dir_SCC = os.path.join(valid_dir, 'squamous.cell.carcinoma_left.hilum_T1_N2_M0_IIIa')\n",
        "\n",
        "test_dir_norm = os.path.join(test_dir, 'normal')\n",
        "test_dir_AC = os.path.join(test_dir, 'adenocarcinoma')\n",
        "test_dir_LCC = os.path.join(test_dir, 'large.cell.carcinoma')\n",
        "test_dir_SCC = os.path.join(test_dir, 'squamous.cell.carcinoma')"
      ],
      "metadata": {
        "id": "YKnvvz62Lqju"
      },
      "execution_count": null,
      "outputs": []
    },
    {
      "cell_type": "code",
      "source": [
        "print(len(os.listdir(train_dir_norm)))\n",
        "print(len(os.listdir(train_dir_AC)))\n",
        "print(len(os.listdir(train_dir_LCC)))\n",
        "print(len(os.listdir(train_dir_SCC)))\n",
        "print()\n",
        "print(len(os.listdir(valid_dir_norm)))\n",
        "print(len(os.listdir(valid_dir_AC)))\n",
        "print(len(os.listdir(valid_dir_LCC)))\n",
        "print(len(os.listdir(valid_dir_SCC)))\n",
        "print()\n",
        "print(len(os.listdir(test_dir_norm)))\n",
        "print(len(os.listdir(test_dir_AC)))\n",
        "print(len(os.listdir(test_dir_LCC)))\n",
        "print(len(os.listdir(test_dir_SCC)))"
      ],
      "metadata": {
        "id": "l82VswO5LtGF"
      },
      "execution_count": null,
      "outputs": []
    },
    {
      "cell_type": "markdown",
      "source": [
        "### To train model using transfer learning, import the model (in this case EfficientNetB2) and its preprocessing function."
      ],
      "metadata": {
        "id": "8xiMcj83q50K"
      }
    },
    {
      "cell_type": "code",
      "source": [
        "from tensorflow.keras.preprocessing.image import ImageDataGenerator\n",
        "from tensorflow.keras.applications import EfficientNetB2\n",
        "from tensorflow.keras.applications import efficientnet"
      ],
      "metadata": {
        "id": "lyrJI6GEhW_P"
      },
      "execution_count": null,
      "outputs": []
    },
    {
      "cell_type": "code",
      "source": [
        "batch_size = 32\n",
        "\n",
        "train_datagen = ImageDataGenerator(dtype = 'float32', preprocessing_function = efficientnet.preprocess_input)\n",
        "train_generator = train_datagen.flow_from_directory(train_dir, batch_size = batch_size, target_size = (500,500),\n",
        "                                                    class_mode = 'categorical')\n",
        "\n",
        "valid_datagen = ImageDataGenerator(dtype='float32', preprocessing_function=efficientnet.preprocess_input)\n",
        "valid_generator = valid_datagen.flow_from_directory(valid_dir, batch_size = batch_size, target_size = (500,500),\n",
        "                                                    class_mode = 'categorical')\n",
        "\n",
        "test_datagen = ImageDataGenerator(dtype='float32', preprocessing_function=efficientnet.preprocess_input)\n",
        "test_generator = test_datagen.flow_from_directory(test_dir, batch_size = batch_size, target_size = (500,500),\n",
        "                                                  class_mode = 'categorical')"
      ],
      "metadata": {
        "colab": {
          "base_uri": "https://localhost:8080/"
        },
        "id": "etSw6-RJLtg9",
        "outputId": "521491ff-7e42-4f19-f45c-bf1321eeff72"
      },
      "execution_count": null,
      "outputs": [
        {
          "output_type": "stream",
          "name": "stdout",
          "text": [
            "Found 613 images belonging to 4 classes.\n",
            "Found 72 images belonging to 4 classes.\n",
            "Found 315 images belonging to 4 classes.\n"
          ]
        }
      ]
    },
    {
      "cell_type": "markdown",
      "source": [
        "### To specialize the pre-trained model to our needs, load it without the top layer, freeze the rest and create a custom top."
      ],
      "metadata": {
        "id": "eSOsEIGUrbCr"
      }
    },
    {
      "cell_type": "code",
      "source": [
        "ai_model = EfficientNetB2(include_top = False, pooling = 'avg', weights = 'imagenet', input_shape = (500,500,3))\n",
        "for layer in ai_model.layers:\n",
        "    layer.trainable = False"
      ],
      "metadata": {
        "id": "fRdsIqQPhgfH"
      },
      "execution_count": null,
      "outputs": []
    },
    {
      "cell_type": "code",
      "source": [
        "from tensorflow.keras.models import Sequential\n",
        "from tensorflow.keras.layers import Dense, Activation, Flatten, BatchNormalization"
      ],
      "metadata": {
        "id": "dm7RA0bLhqA2"
      },
      "execution_count": null,
      "outputs": []
    },
    {
      "cell_type": "code",
      "source": [
        "model = Sequential()\n",
        "model.add(ai_model)\n",
        "model.add(Flatten())\n",
        "model.add(BatchNormalization())\n",
        "model.add(Dense(4, activation='softmax'))\n",
        "model.summary()"
      ],
      "metadata": {
        "colab": {
          "base_uri": "https://localhost:8080/"
        },
        "id": "xPbpBlyzhhGe",
        "outputId": "a8c74e8d-6c93-4da1-a12f-6a52f9388d70"
      },
      "execution_count": null,
      "outputs": [
        {
          "output_type": "stream",
          "name": "stdout",
          "text": [
            "Model: \"sequential_3\"\n",
            "_________________________________________________________________\n",
            " Layer (type)                Output Shape              Param #   \n",
            "=================================================================\n",
            " efficientnetb2 (Functional)  (None, 1408)             7768569   \n",
            "                                                                 \n",
            " flatten_3 (Flatten)         (None, 1408)              0         \n",
            "                                                                 \n",
            " batch_normalization_3 (Batc  (None, 1408)             5632      \n",
            " hNormalization)                                                 \n",
            "                                                                 \n",
            " dense_3 (Dense)             (None, 4)                 5636      \n",
            "                                                                 \n",
            "=================================================================\n",
            "Total params: 7,779,837\n",
            "Trainable params: 8,452\n",
            "Non-trainable params: 7,771,385\n",
            "_________________________________________________________________\n"
          ]
        }
      ]
    },
    {
      "cell_type": "markdown",
      "source": [
        "### Compile the model and run!"
      ],
      "metadata": {
        "id": "bHqpcK83r4v6"
      }
    },
    {
      "cell_type": "code",
      "source": [
        "model.compile(optimizer='adam', loss = 'categorical_crossentropy', metrics = ['acc'])"
      ],
      "metadata": {
        "id": "b8XlGXZGhllu"
      },
      "execution_count": null,
      "outputs": []
    },
    {
      "cell_type": "code",
      "source": [
        "hist = model.fit(train_generator, steps_per_epoch = 20, epochs = 50, verbose = 1, validation_data = valid_generator)"
      ],
      "metadata": {
        "colab": {
          "base_uri": "https://localhost:8080/"
        },
        "id": "ZGyq-jFxh2-c",
        "outputId": "1bfbc356-f6d6-47b4-d5c6-69beaadf16d5"
      },
      "execution_count": null,
      "outputs": [
        {
          "output_type": "stream",
          "name": "stdout",
          "text": [
            "Epoch 1/50\n",
            "20/20 [==============================] - 20s 621ms/step - loss: 1.1405 - acc: 0.5090 - val_loss: 1.1321 - val_acc: 0.4861\n",
            "Epoch 2/50\n",
            "20/20 [==============================] - 10s 498ms/step - loss: 0.6366 - acc: 0.7423 - val_loss: 1.0950 - val_acc: 0.5139\n",
            "Epoch 3/50\n",
            "20/20 [==============================] - 10s 466ms/step - loss: 0.4846 - acc: 0.8140 - val_loss: 1.1319 - val_acc: 0.5000\n",
            "Epoch 4/50\n",
            "20/20 [==============================] - 10s 493ms/step - loss: 0.3874 - acc: 0.8662 - val_loss: 1.1329 - val_acc: 0.5556\n",
            "Epoch 5/50\n",
            "20/20 [==============================] - 10s 485ms/step - loss: 0.3347 - acc: 0.8972 - val_loss: 1.0116 - val_acc: 0.5278\n",
            "Epoch 6/50\n",
            "20/20 [==============================] - 9s 463ms/step - loss: 0.3073 - acc: 0.9005 - val_loss: 0.9460 - val_acc: 0.5972\n",
            "Epoch 7/50\n",
            "20/20 [==============================] - 10s 498ms/step - loss: 0.2511 - acc: 0.9266 - val_loss: 0.8658 - val_acc: 0.6111\n",
            "Epoch 8/50\n",
            "20/20 [==============================] - 10s 494ms/step - loss: 0.2443 - acc: 0.9266 - val_loss: 0.8104 - val_acc: 0.6528\n",
            "Epoch 9/50\n",
            "20/20 [==============================] - 9s 453ms/step - loss: 0.2178 - acc: 0.9445 - val_loss: 0.7790 - val_acc: 0.6667\n",
            "Epoch 10/50\n",
            "20/20 [==============================] - 10s 495ms/step - loss: 0.2036 - acc: 0.9396 - val_loss: 0.7447 - val_acc: 0.6528\n",
            "Epoch 11/50\n",
            "20/20 [==============================] - 10s 486ms/step - loss: 0.1894 - acc: 0.9494 - val_loss: 0.6625 - val_acc: 0.7222\n",
            "Epoch 12/50\n",
            "20/20 [==============================] - 10s 467ms/step - loss: 0.1941 - acc: 0.9511 - val_loss: 0.6313 - val_acc: 0.7500\n",
            "Epoch 13/50\n",
            "20/20 [==============================] - 10s 499ms/step - loss: 0.1572 - acc: 0.9576 - val_loss: 0.5809 - val_acc: 0.7639\n",
            "Epoch 14/50\n",
            "20/20 [==============================] - 10s 490ms/step - loss: 0.1535 - acc: 0.9560 - val_loss: 0.5373 - val_acc: 0.8056\n",
            "Epoch 15/50\n",
            "20/20 [==============================] - 10s 464ms/step - loss: 0.1021 - acc: 0.9837 - val_loss: 0.4878 - val_acc: 0.8333\n",
            "Epoch 16/50\n",
            "20/20 [==============================] - 10s 492ms/step - loss: 0.1399 - acc: 0.9608 - val_loss: 0.4837 - val_acc: 0.7917\n",
            "Epoch 17/50\n",
            "20/20 [==============================] - 10s 491ms/step - loss: 0.1271 - acc: 0.9690 - val_loss: 0.4631 - val_acc: 0.8611\n",
            "Epoch 18/50\n",
            "20/20 [==============================] - 10s 464ms/step - loss: 0.1009 - acc: 0.9886 - val_loss: 0.4835 - val_acc: 0.8750\n",
            "Epoch 19/50\n",
            "20/20 [==============================] - 10s 488ms/step - loss: 0.1040 - acc: 0.9821 - val_loss: 0.4621 - val_acc: 0.8194\n",
            "Epoch 20/50\n",
            "20/20 [==============================] - 10s 497ms/step - loss: 0.1000 - acc: 0.9772 - val_loss: 0.4155 - val_acc: 0.8611\n",
            "Epoch 21/50\n",
            "20/20 [==============================] - 10s 468ms/step - loss: 0.1231 - acc: 0.9690 - val_loss: 0.4777 - val_acc: 0.8056\n",
            "Epoch 22/50\n",
            "20/20 [==============================] - 10s 477ms/step - loss: 0.1057 - acc: 0.9788 - val_loss: 0.4037 - val_acc: 0.8611\n",
            "Epoch 23/50\n",
            "20/20 [==============================] - 10s 495ms/step - loss: 0.1126 - acc: 0.9706 - val_loss: 0.3898 - val_acc: 0.8889\n",
            "Epoch 24/50\n",
            "20/20 [==============================] - 10s 479ms/step - loss: 0.1043 - acc: 0.9723 - val_loss: 0.3859 - val_acc: 0.8889\n",
            "Epoch 25/50\n",
            "20/20 [==============================] - 10s 480ms/step - loss: 0.0875 - acc: 0.9869 - val_loss: 0.3581 - val_acc: 0.8889\n",
            "Epoch 26/50\n",
            "20/20 [==============================] - 10s 479ms/step - loss: 0.0952 - acc: 0.9804 - val_loss: 0.3591 - val_acc: 0.9028\n",
            "Epoch 27/50\n",
            "20/20 [==============================] - 10s 479ms/step - loss: 0.1035 - acc: 0.9772 - val_loss: 0.3802 - val_acc: 0.8750\n",
            "Epoch 28/50\n",
            "20/20 [==============================] - 10s 471ms/step - loss: 0.0949 - acc: 0.9657 - val_loss: 0.4024 - val_acc: 0.8889\n",
            "Epoch 29/50\n",
            "20/20 [==============================] - 10s 486ms/step - loss: 0.0829 - acc: 0.9821 - val_loss: 0.4340 - val_acc: 0.8472\n",
            "Epoch 30/50\n",
            "20/20 [==============================] - 10s 477ms/step - loss: 0.0904 - acc: 0.9804 - val_loss: 0.3972 - val_acc: 0.9028\n",
            "Epoch 31/50\n",
            "20/20 [==============================] - 10s 482ms/step - loss: 0.1118 - acc: 0.9723 - val_loss: 0.4030 - val_acc: 0.8889\n",
            "Epoch 32/50\n",
            "20/20 [==============================] - 10s 497ms/step - loss: 0.0783 - acc: 0.9804 - val_loss: 0.4021 - val_acc: 0.8889\n",
            "Epoch 33/50\n",
            "20/20 [==============================] - 10s 475ms/step - loss: 0.0751 - acc: 0.9804 - val_loss: 0.4963 - val_acc: 0.8889\n",
            "Epoch 34/50\n",
            "20/20 [==============================] - 10s 474ms/step - loss: 0.0683 - acc: 0.9869 - val_loss: 0.4639 - val_acc: 0.9167\n",
            "Epoch 35/50\n",
            "20/20 [==============================] - 10s 492ms/step - loss: 0.0772 - acc: 0.9788 - val_loss: 0.4178 - val_acc: 0.9167\n",
            "Epoch 36/50\n",
            "20/20 [==============================] - 10s 482ms/step - loss: 0.0898 - acc: 0.9723 - val_loss: 0.4041 - val_acc: 0.9167\n",
            "Epoch 37/50\n",
            "20/20 [==============================] - 10s 475ms/step - loss: 0.0648 - acc: 0.9869 - val_loss: 0.4689 - val_acc: 0.8750\n",
            "Epoch 38/50\n",
            "20/20 [==============================] - 10s 498ms/step - loss: 0.0633 - acc: 0.9821 - val_loss: 0.4493 - val_acc: 0.9028\n",
            "Epoch 39/50\n",
            "20/20 [==============================] - 11s 546ms/step - loss: 0.0759 - acc: 0.9788 - val_loss: 0.4752 - val_acc: 0.9028\n",
            "Epoch 40/50\n",
            "20/20 [==============================] - 10s 466ms/step - loss: 0.0597 - acc: 0.9821 - val_loss: 0.3877 - val_acc: 0.9167\n",
            "Epoch 41/50\n",
            "20/20 [==============================] - 10s 497ms/step - loss: 0.0514 - acc: 0.9869 - val_loss: 0.3850 - val_acc: 0.8889\n",
            "Epoch 42/50\n",
            "20/20 [==============================] - 10s 498ms/step - loss: 0.0706 - acc: 0.9755 - val_loss: 0.3661 - val_acc: 0.9167\n",
            "Epoch 43/50\n",
            "20/20 [==============================] - 10s 468ms/step - loss: 0.0572 - acc: 0.9869 - val_loss: 0.4011 - val_acc: 0.9028\n",
            "Epoch 44/50\n",
            "20/20 [==============================] - 10s 503ms/step - loss: 0.0740 - acc: 0.9788 - val_loss: 0.3959 - val_acc: 0.9028\n",
            "Epoch 45/50\n",
            "20/20 [==============================] - 10s 493ms/step - loss: 0.0637 - acc: 0.9804 - val_loss: 0.3958 - val_acc: 0.9028\n",
            "Epoch 46/50\n",
            "20/20 [==============================] - 10s 469ms/step - loss: 0.0478 - acc: 0.9902 - val_loss: 0.4085 - val_acc: 0.9167\n",
            "Epoch 47/50\n",
            "20/20 [==============================] - 10s 500ms/step - loss: 0.0600 - acc: 0.9869 - val_loss: 0.4030 - val_acc: 0.8889\n",
            "Epoch 48/50\n",
            "20/20 [==============================] - 10s 493ms/step - loss: 0.0617 - acc: 0.9869 - val_loss: 0.4122 - val_acc: 0.9028\n",
            "Epoch 49/50\n",
            "20/20 [==============================] - 10s 465ms/step - loss: 0.0620 - acc: 0.9804 - val_loss: 0.4514 - val_acc: 0.9167\n",
            "Epoch 50/50\n",
            "20/20 [==============================] - 10s 501ms/step - loss: 0.0484 - acc: 0.9902 - val_loss: 0.4293 - val_acc: 0.9167\n"
          ]
        }
      ]
    },
    {
      "cell_type": "markdown",
      "source": [
        "### Track the loss and accuracy across epochs using graphs."
      ],
      "metadata": {
        "id": "Vykn684IsCuy"
      }
    },
    {
      "cell_type": "code",
      "source": [
        "import matplotlib.pyplot as plt\n",
        "\n",
        "acc = hist.history['acc']\n",
        "val_acc = hist.history['val_acc']\n",
        "\n",
        "loss = hist.history['loss']\n",
        "val_loss = hist.history['val_loss']\n",
        "\n",
        "epochs = range(len(acc))\n",
        "\n",
        "plt.plot(epochs, acc)\n",
        "plt.plot(epochs, val_acc)\n",
        "plt.title('Training and validation accuracy')\n",
        "plt.figure()\n",
        "\n",
        "plt.plot(epochs, loss)\n",
        "plt.plot(epochs, val_loss)\n",
        "plt.title('Training and validation loss')\n",
        "plt.figure()"
      ],
      "metadata": {
        "colab": {
          "base_uri": "https://localhost:8080/",
          "height": 922
        },
        "id": "IaKCVoZesGYV",
        "outputId": "117c2f4c-97ad-4677-c699-acb1697a3f19"
      },
      "execution_count": null,
      "outputs": [
        {
          "output_type": "execute_result",
          "data": {
            "text/plain": [
              "<Figure size 640x480 with 0 Axes>"
            ]
          },
          "metadata": {},
          "execution_count": 39
        },
        {
          "output_type": "display_data",
          "data": {
            "text/plain": [
              "<Figure size 640x480 with 1 Axes>"
            ],
            "image/png": "[encoded data removed]"
          },
          "metadata": {}
        },
        {
          "output_type": "display_data",
          "data": {
            "text/plain": [
              "<Figure size 640x480 with 1 Axes>"
            ],
            "image/png": "[encoded data removed]"
          },
          "metadata": {}
        },
        {
          "output_type": "display_data",
          "data": {
            "text/plain": [
              "<Figure size 640x480 with 0 Axes>"
            ]
          },
          "metadata": {}
        }
      ]
    },
    {
      "cell_type": "markdown",
      "source": [
        "### Test the model against the test data."
      ],
      "metadata": {
        "id": "OO61Z5u_sO9Z"
      }
    },
    {
      "cell_type": "code",
      "source": [
        "result = model.evaluate(test_generator)"
      ],
      "metadata": {
        "colab": {
          "base_uri": "https://localhost:8080/"
        },
        "id": "-sKaZP4AKcF0",
        "outputId": "49e71415-a65e-42c6-d0c5-f31022298d51"
      },
      "execution_count": null,
      "outputs": [
        {
          "output_type": "stream",
          "name": "stdout",
          "text": [
            "10/10 [==============================] - 4s 404ms/step - loss: 0.4801 - acc: 0.8508\n"
          ]
        }
      ]
    },
    {
      "cell_type": "markdown",
      "source": [
        "### Save the model as a .h5 file."
      ],
      "metadata": {
        "id": "V3Rm42I9sTla"
      }
    },
    {
      "cell_type": "code",
      "source": [
        "model.save(\"ai_model.h5\")\n",
        "print(\"Model Saved!\")"
      ],
      "metadata": {
        "colab": {
          "base_uri": "https://localhost:8080/"
        },
        "id": "V-lVT_z9Kcmc",
        "outputId": "da0ed1cc-c0ec-4405-d86e-f342a73a0449"
      },
      "execution_count": null,
      "outputs": [
        {
          "output_type": "stream",
          "name": "stdout",
          "text": [
            "Model Saved!\n"
          ]
        }
      ]
    }
  ]
}